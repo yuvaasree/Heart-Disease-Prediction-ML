{
 "cells": [
  {
   "cell_type": "markdown",
   "metadata": {},
   "source": [
    "**Data Science and Machine Learning course - Batch-302**\n",
    "\n",
    "**Assignment-12 - Model-Deployment**\n",
    "\n",
    "**Submission Date: 06/04/2025**\n",
    "\n",
    "**General Instructions for Assignment submission**\n",
    "- **Please zip all the files** - Python code with results, screenshots, text file, etc. Any file please zip all, and upload as a single file.\n",
    "- That zip file's name, keep it based on this template \"**dsmlbatch302_ASM12_<your_firstname>_<your_initial>.zip**\"\n",
    "- Upload File option will be present after clicking the \"Attempt Now\" button in the Assignments page\n",
    "- For clarity about the Assignment, **refer the class video recordings** or ask questions during the next session\n",
    "\n",
    "--------------------------------"
   ]
  },
  {
   "cell_type": "markdown",
   "metadata": {},
   "source": [
    "### Model-Deployment"
   ]
  },
  {
   "cell_type": "markdown",
   "metadata": {},
   "source": [
    "**Q1)** List the **3 Project Phases in ML project (or any Software project)**, and explain about each Phase. Give answer in 3 to 5 points."
   ]
  },
  {
   "cell_type": "markdown",
   "metadata": {},
   "source": [
    "1. Development phase --> Creating the best ML model\n",
    "    - Data preprocessing: Cleaning data \n",
    "    - Feature engineering:\n",
    "    - Model training: Trying out different algorithms (e.g., Linear Regression, Decision Trees, etc.).\n",
    "    - Model tuning: Optimizing hyperparameters to improve performance.\n",
    "    - Evaluation: Using metrics like accuracy, F1-score, RMSE, etc., to assess how well the model performs\n",
    "\n",
    "2. QA/Staging phase --> Internal testing of ML model performance\n",
    "    - not available for uses.\n",
    "    - internal testing is done \n",
    "3. Production phase --> This takes the ML model you built to the users\n",
    "    - Model Deployment phase\n",
    "    - available for end users."
   ]
  },
  {
   "cell_type": "markdown",
   "metadata": {},
   "source": [
    "**Q2)** What are the **5 Python libraries known for ML Model handling?** Explain in **what scenarios** each of those methods can be used? Give answer in 3 to 5 points.\n",
    "\n"
   ]
  },
  {
   "cell_type": "markdown",
   "metadata": {},
   "source": [
    "1. Scikit-learn (sklearn)\n",
    "   - to use ML algorithms\n",
    "   - Regression, classification, clustering\n",
    "      - Example: Linear Regression, Decision Trees, KMeans, Train-Test Split\n",
    "\n",
    "2. XGBoost\n",
    "   - for gradient boosting\n",
    "      -  Example: Handling imbalanced data, feature importance\n",
    "\n",
    "3. TensorFlow\n",
    "   - for Deep learning and neural networks\n",
    "   - Image classification, object detection\n",
    "   - Natural Language Processing (NLP)\n",
    "      - Example: CNNs, RNNs, Transformers\n",
    "\n",
    "4. Streamlit \n",
    "    - It is a Python based library\n",
    "    - It is Owned and Managed by **Snowflake**\n",
    "    - It is helpful for sharing ML models with colleagues, and also making dashboards & enterprise grade ML model deployments\n",
    "        \n",
    "5. Gradio \n",
    "    - Is is a Python based library\n",
    "    - It is Owned and Managed by **HuggingFace** - this is a ML/DL models public community\n",
    "    - It is helpful for quick prototyping and sharing ML models with colleagues\n",
    "   \n",
    "   - Both Streamlit and Gradio is used for:\n",
    "        - For creating a Web Application."
   ]
  },
  {
   "cell_type": "markdown",
   "metadata": {},
   "source": [
    "**Q3)** Write details about **3 Deployment Strategies in ML project (or any Software project)**. Give answer in 3 to 5 points."
   ]
  },
  {
   "cell_type": "markdown",
   "metadata": {},
   "source": [
    "**1. Shadow Deployment**\n",
    "- Both NEW and OLD ML Models will be parallely used by ALL End-users\n",
    "   - The new model runs in the background, alongside the live model, but its predictions are not visible to users.\n",
    "\n",
    "**2. Canary Deployment**\n",
    "- Initiate with deploying to Only LESS number of End-users\n",
    "- Then gradually deploy to ALL End-users\n",
    "- Major Goal: This is used **to check if the NEW ML Model doesn't fail** in Production\n",
    "\n",
    "**3. A/B Testing**\n",
    "- Split End-users as 2 categories, and deploy NEW model to only 1 category\n",
    "    - 50% of users get predictions from Model A (existing), 50% from Model B (new).\n",
    "- Major Goal: This is used **to check if the NEW ML Model feature is performing good** in Production"
   ]
  },
  {
   "cell_type": "markdown",
   "metadata": {},
   "source": [
    "**Q4)** When solving the **ASM10 assignment in live class, what issue did we face** with the manual coding logic for clustering? **How did we solve that issue?** Give answer in 3 to 5 points."
   ]
  },
  {
   "cell_type": "markdown",
   "metadata": {},
   "source": [
    "The error was because of the formart in which we assigned the dataset to the variable X\n",
    "- in the manual coding logic with the reference given, they used a numpy array. whereas we had a pandas dataframe \n",
    "- assigning a pandas dataframe into a numpy array format throwed us the error\n",
    "- so we used iloc to solve the issues\n",
    "- this ensures we are accessing the right data , the row at position idx in the DataFrame."
   ]
  }
 ],
 "metadata": {
  "language_info": {
   "name": "python"
  }
 },
 "nbformat": 4,
 "nbformat_minor": 2
}
