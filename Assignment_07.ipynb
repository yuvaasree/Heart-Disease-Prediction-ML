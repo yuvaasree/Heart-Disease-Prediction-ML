{
 "cells": [
  {
   "cell_type": "markdown",
   "metadata": {},
   "source": [
    "**Data Science and Machine Learning course - Batch-302**\n",
    "\n",
    "**Assignment-7 - ML-Basics**\n",
    "\n",
    "**Submission Date: 02/03/2025**\n",
    "\n",
    "**General Instructions for Assignment submission**\n",
    "- **Please zip all the files** - Python code with results, screenshots, text file, etc. Any file please zip all, and upload as a single file.\n",
    "- That zip file's name, keep it based on this template \"**dsmlbatch302_ASM7_<your_firstname>_<your_initial>.zip**\"\n",
    "- Upload File option will be present after clicking the \"Attempt Now\" button in the Assignments page\n",
    "- For clarity about the Assignment, **refer the class video recordings** or ask questions during the next session\n",
    "\n",
    "--------------------------------"
   ]
  },
  {
   "cell_type": "markdown",
   "metadata": {},
   "source": [
    "### ML-Basics"
   ]
  },
  {
   "cell_type": "markdown",
   "metadata": {},
   "source": [
    "**Q1)** What is **Machine Learning**? Give answer in 3 to 5 points."
   ]
  },
  {
   "cell_type": "markdown",
   "metadata": {},
   "source": [
    "1. It allows computer to learn and make decisions without being programmed.\n",
    "2. Helps in identifying patterns and make predictions\n",
    "3. Solve complex problems"
   ]
  },
  {
   "cell_type": "markdown",
   "metadata": {},
   "source": [
    "**Q2)** What are the advantages and disadvantages of **Dimensionality Reduction**? Give answer in 3 to 5 points."
   ]
  },
  {
   "cell_type": "markdown",
   "metadata": {},
   "source": [
    "**Advantages of Dimensionality Reduction:**\n",
    "1. Reducing dimensions helps eliminate irrelevant features, leading to faster training and better generalization   \n",
    "2. Techniques like PCA (Principal Component Analysis) reduce high-dimensional data to 2D or 3D, making it easier to visualize patterns.\n",
    "\n",
    "\n",
    "**Disadvantages of Dimensionality Reductions:**\n",
    "\n",
    "1. Some valuable data might be lost during the process, affecting model accuracy.\n",
    "2. Transformed features may lose their original meaning, making model interpretation difficult."
   ]
  },
  {
   "cell_type": "markdown",
   "metadata": {},
   "source": [
    "**Q3)** What are the **steps in Machine Learning project**? List down the steps."
   ]
  },
  {
   "cell_type": "markdown",
   "metadata": {},
   "source": [
    "        1. Goal setting \n",
    "        2. Collect the Dataset\n",
    "        3. Prepare the Dataset\n",
    "        4. Feature Engineering (Data Visualization, EDA, Statistical Analysis)\n",
    "        5. Split Dataset for \"training\" and \"testing\"\n",
    "        6. Apply \"ML algorithm\"\n",
    "        7. Evalute the \"model\"\n",
    "        8. Prediction of result."
   ]
  },
  {
   "cell_type": "markdown",
   "metadata": {},
   "source": [
    "**Q4)** What is the difference between **Data Analysis project** and **ML project**? Give answer with some real world examples you know."
   ]
  },
  {
   "cell_type": "markdown",
   "metadata": {},
   "source": [
    "1. DA uses data helps in extracting insights and trends from the dataset whereas ML allows us to build predictive models.\n",
    "2. DA uses viz, statistical parameter to analyse the data and ML used algorithms to learn patterns.\n",
    "example for DA - finding a top selling product and buying patterns analysis. \n",
    "example for ML - spam detection"
   ]
  },
  {
   "cell_type": "markdown",
   "metadata": {},
   "source": [
    "**Q5)** Is **K-fold Cross-Validataion used for Model Evaluation?** How K-fold Cross-Validation works? Give answer in 3 to 5 points."
   ]
  },
  {
   "cell_type": "markdown",
   "metadata": {},
   "source": [
    "Yes, K-fold Cross-Validation is a technique used for model evaluation.\n",
    "\n",
    "1. Divide Data into K Folds – The dataset is randomly divided into K equal-sized folds.\n",
    "2. Train and Validate K Times – The model is trained K times, each time using K-1 folds for training and the remaining 1 fold for validation.\n",
    "3. Rotate Validation Fold – Each fold serves as a validation set once, ensuring that every data point is tested.\n",
    "4. Average the Results – The model’s performance metric are averaged over K iterations for evaluation.\n",
    "5. Final Model Training – After evaluation, the model is trained on the full dataset for final deployment."
   ]
  }
 ],
 "metadata": {
  "language_info": {
   "name": "python"
  }
 },
 "nbformat": 4,
 "nbformat_minor": 2
}
