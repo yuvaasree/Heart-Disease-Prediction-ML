{
 "cells": [
  {
   "cell_type": "code",
   "execution_count": 1,
   "metadata": {},
   "outputs": [
    {
     "name": "stdout",
     "output_type": "stream",
     "text": [
      "Current working directory: c:\\Users\\Lenovo\\OneDrive\\Desktop\\DSML\\Assignment\n"
     ]
    }
   ],
   "source": [
    "import os\n",
    "print(\"Current working directory:\", os.getcwd())"
   ]
  },
  {
   "cell_type": "code",
   "execution_count": 2,
   "metadata": {},
   "outputs": [
    {
     "name": "stdout",
     "output_type": "stream",
     "text": [
      "The first line in the file is:\n",
      "Vanakkam\n",
      "\n"
     ]
    }
   ],
   "source": [
    "# Opening the file \"asm1-data.txt\" in read mode\n",
    "with open(\"asm1-data.txt\", \"r\") as file:\n",
    "    # Read the first line of the file\n",
    "    first_line = file.readline()\n",
    "    \n",
    "# To print the first line\n",
    "print(\"The first line in the file is:\")\n",
    "print(first_line)"
   ]
  },
  {
   "cell_type": "code",
   "execution_count": 3,
   "metadata": {},
   "outputs": [
    {
     "name": "stdout",
     "output_type": "stream",
     "text": [
      "The first line in the file is:\n",
      "Vanakkam\n",
      "\n"
     ]
    }
   ],
   "source": [
    "#creating class with name MyFileClass   \n",
    "class MyFileClass:\n",
    "    # defining a function named read_my_file_location with parameter \"file_location\"\n",
    "    def read_my_file_function(self, file_location):\n",
    "       with open(file_location, \"r\") as file:\n",
    "           first_line = file.readline()\n",
    "           print(\"The first line in the file is:\")\n",
    "           print(first_line)\n",
    "my_file_reader = MyFileClass()\n",
    "my_file_reader.read_my_file_function(file_location=\"asm1-data.txt\")"
   ]
  },
  {
   "cell_type": "code",
   "execution_count": null,
   "metadata": {},
   "outputs": [
    {
     "name": "stdout",
     "output_type": "stream",
     "text": [
      "The second line in the file is:\n",
      "bnaenoD edoCsdfoiw refan kjasr\n",
      "The sliced string is: enoD edoC\n",
      "The reversed string is: Code Done\n",
      "C o d e   D o n e "
     ]
    }
   ],
   "source": [
    "#creating class with name MyFileClass   \n",
    "class MyFileClass:\n",
    "    # defining a function named read_my_file_location with parameter \"file_location\"\n",
    "    def read_my_file_function(self, file_location):\n",
    "       with open(file_location, \"r\") as file:\n",
    "           #printing the second line in the file for further operations\n",
    "           file.readline()\n",
    "           second_line = file.readline()\n",
    "           print(\"The second line in the file is:\")\n",
    "           print(second_line)\n",
    "           #slicing the string from 3rd to 12th position\n",
    "           sliced_string = second_line[3:12]\n",
    "           print(\"The sliced string is:\", sliced_string)\n",
    "#reversing the sliced string\n",
    "           string_reversal=sliced_string[::-1]\n",
    "           print(\"The reversed string is:\", string_reversal)\n",
    "#looping through the reversed string and printing each character\n",
    "           for i in range(0, len(string_reversal)):\n",
    "               print(string_reversal[i], end=\" \")\n",
    "           \n",
    "my_file_reader = MyFileClass()\n",
    "my_file_reader.read_my_file_function(file_location=\"asm1-data.txt\")"
   ]
  }
 ],
 "metadata": {
  "kernelspec": {
   "display_name": ".venv",
   "language": "python",
   "name": "python3"
  },
  "language_info": {
   "codemirror_mode": {
    "name": "ipython",
    "version": 3
   },
   "file_extension": ".py",
   "mimetype": "text/x-python",
   "name": "python",
   "nbconvert_exporter": "python",
   "pygments_lexer": "ipython3",
   "version": "3.13.0"
  }
 },
 "nbformat": 4,
 "nbformat_minor": 2
}
